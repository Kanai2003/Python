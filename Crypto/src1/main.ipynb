{
 "cells": [
  {
   "cell_type": "code",
   "execution_count": 9,
   "metadata": {},
   "outputs": [],
   "source": [
    "from dash import Dash, dcc, html, Input, Output, State, callback \n",
    "import numpy as np \n",
    "import pandas as pd \n",
    "import plotly.graph_objs as go \n",
    "from datetime import datetime as dt \n",
    "from datetime import timedelta \n",
    " "
   ]
  },
  {
   "cell_type": "code",
   "execution_count": 10,
   "metadata": {},
   "outputs": [],
   "source": [
    "cryptoDict = dict( \n",
    "    BTC = \"Bitcoin\", \n",
    "    ETH = \"Ethereum\", \n",
    "    BNB = \"Binance\", \n",
    "    DOGE = \"Dogecoin\" \n",
    ") "
   ]
  },
  {
   "cell_type": "code",
   "execution_count": 11,
   "metadata": {},
   "outputs": [],
   "source": [
    "app = Dash(__name__); "
   ]
  },
  {
   "cell_type": "code",
   "execution_count": 12,
   "metadata": {},
   "outputs": [],
   "source": [
    "app.layout = html.Div([\n",
    " \n",
    "    dcc.Dropdown( \n",
    "        id = 'crypto-dropdown', \n",
    "        options = list(map(lambda key: {'label': cryptoDict[key], 'value': key}, cryptoDict.keys())), \n",
    "        value = \"BTC\", \n",
    "        placeholder = \"Select a crypto\", \n",
    "    ), \n",
    " \n",
    "    html.Div(children=\"\", id='stock'), \n",
    " \n",
    "]) "
   ]
  },
  {
   "cell_type": "code",
   "execution_count": 13,
   "metadata": {},
   "outputs": [],
   "source": [
    "@callback( \n",
    "    Output(component_id='stock', component_property=\"children\"), \n",
    "    Input(component_id='crypto-dropdown', component_property=\"value\"), \n",
    ") \n",
    "\n",
    "\n",
    "def update_text(user_selected): \n",
    "    global df\n",
    "    df = pd.read_csv(f'../data/{user_selected}-USD.csv') \n",
    " \n",
    "     \n",
    "    res =  html.Div(children =[\n",
    "        html.Div(id=\"card\", children=[\n",
    "            html.H2(f\"{cryptoDict[user_selected]} {user_selected} USD\", id=\"crypto-name\"),\n",
    "            html.H1(round(float(df.iloc[-1]['Close']), 2), id=\"crypto-price\")\n",
    "        ]),\n",
    "        dcc.Graph(\n",
    "        id='stock-visualizer', \n",
    "        figure = { \n",
    "            'data' : [ \n",
    "                go.Candlestick(x=df['Date'], \n",
    "                    open=df['Open'], \n",
    "                    high=df['High'], \n",
    "                    low=df['Low'], \n",
    "                    close=df['Close'] \n",
    "                ) \n",
    "            ], \n",
    "            'layout' : go.Layout( \n",
    "            xaxis=dict( \n",
    "                rangeselector=dict( \n",
    "                    buttons=list([ \n",
    "                        dict(count = 7, \n",
    "                            label='1W', \n",
    "                            step=\"day\", \n",
    "                            stepmode=\"backward\"), \n",
    "                        dict(count=1, \n",
    "                            label=\"1M\", \n",
    "                            step=\"month\", \n",
    "                            stepmode=\"backward\"), \n",
    "                        dict(count=6, \n",
    "                            label=\"6M\", \n",
    "                            step=\"month\", \n",
    "                            stepmode=\"backward\"), \n",
    "                        dict(count=1, \n",
    "                            label=\"YTD\", \n",
    "                            step=\"year\", \n",
    "                            stepmode=\"todate\"), \n",
    "                        dict(count=1, \n",
    "                            label=\"1Y\", \n",
    "                            step=\"year\", \n",
    "                            stepmode=\"backward\"), \n",
    "                        dict(step=\"all\") \n",
    "                    ]) \n",
    "                ), \n",
    "                rangeslider=dict( \n",
    "                    visible=True \n",
    "                ),    \n",
    "                type=\"date\", \n",
    "                    \n",
    "            ), \n",
    " \n",
    "                yaxis = dict(fixedrange = False) \n",
    "            ) \n",
    "              \n",
    "        },\n",
    "    ), ])\n",
    "    return res\n"
   ]
  },
  {
   "cell_type": "code",
   "execution_count": 14,
   "metadata": {},
   "outputs": [],
   "source": [
    "# dcc.Graph(\n",
    "#         id='stock-visualizer', \n",
    "#         graphData = go.FigureWidget(data=graphData,layout=graphLayout),\n",
    "        \n"
   ]
  },
  {
   "cell_type": "code",
   "execution_count": 15,
   "metadata": {},
   "outputs": [],
   "source": [
    "# def zoom(user_selected,layout,xrange):\n",
    "#     df = pd.read_csv(f'../data/{user_selected}-USD.csv'),\n",
    "#     in_view = df.loc[graphData.layout.xaxis.range[0]:graphData.layout.xaxis.range[1]]\n",
    "#     graphData.layout.yaxis.range = [in_view.High.min() - 10, in_view.High.max() + 10]\n"
   ]
  },
  {
   "cell_type": "code",
   "execution_count": 16,
   "metadata": {},
   "outputs": [
    {
     "name": "stdout",
     "output_type": "stream",
     "text": [
      "Dash is running on http://127.0.0.1:8000/\n",
      "\n",
      "Dash is running on http://127.0.0.1:8000/\n",
      "\n",
      " * Serving Flask app '__main__'\n",
      " * Debug mode: off\n"
     ]
    },
    {
     "name": "stderr",
     "output_type": "stream",
     "text": [
      "WARNING: This is a development server. Do not use it in a production deployment. Use a production WSGI server instead.\n",
      " * Running on http://127.0.0.1:8000\n",
      "Press CTRL+C to quit\n"
     ]
    }
   ],
   "source": [
    "if __name__ == \"__main__\": \n",
    "    app.run_server(port='8000')"
   ]
  }
 ],
 "metadata": {
  "kernelspec": {
   "display_name": "Python 3",
   "language": "python",
   "name": "python3"
  },
  "language_info": {
   "codemirror_mode": {
    "name": "ipython",
    "version": 3
   },
   "file_extension": ".py",
   "mimetype": "text/x-python",
   "name": "python",
   "nbconvert_exporter": "python",
   "pygments_lexer": "ipython3",
   "version": "3.10.6"
  },
  "orig_nbformat": 4,
  "vscode": {
   "interpreter": {
    "hash": "26de051ba29f2982a8de78e945f0abaf191376122a1563185a90213a26c5da77"
   }
  }
 },
 "nbformat": 4,
 "nbformat_minor": 2
}
