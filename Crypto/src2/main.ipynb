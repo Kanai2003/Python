{
 "cells": [
  {
   "cell_type": "code",
   "execution_count": 7,
   "metadata": {},
   "outputs": [],
   "source": [
    "from dash import Dash, dcc, html, Input, Output, State, callback \n",
    "import numpy as np \n",
    "import pandas as pd \n",
    "import plotly.graph_objs as go \n",
    "from datetime import datetime as dt \n",
    "from datetime import timedelta \n",
    " "
   ]
  },
  {
   "cell_type": "code",
   "execution_count": 8,
   "metadata": {},
   "outputs": [],
   "source": [
    "cryptoDict = dict( \n",
    "    BTC = \"Bitcoin\", \n",
    "    ETH = \"Ethereum\", \n",
    "    BNB = \"Binance\", \n",
    "    DOGE = \"Dogecoin\" \n",
    ") "
   ]
  },
  {
   "cell_type": "code",
   "execution_count": 9,
   "metadata": {},
   "outputs": [],
   "source": [
    "app = Dash(__name__); "
   ]
  },
  {
   "cell_type": "code",
   "execution_count": 10,
   "metadata": {},
   "outputs": [],
   "source": [
    "app.layout = html.Div([\n",
    " \n",
    "    dcc.Dropdown( \n",
    "        id = 'crypto-dropdown', \n",
    "        options = list(map(lambda key: {'label': cryptoDict[key], 'value': key}, cryptoDict.keys())), \n",
    "        value = \"BTC\", \n",
    "        placeholder = \"Select a crypto\", \n",
    "    ), \n",
    " \n",
    "    html.Div(children=\"\", id='stock'), \n",
    " \n",
    "]) "
   ]
  },
  {
   "cell_type": "code",
   "execution_count": 11,
   "metadata": {},
   "outputs": [],
   "source": [
    "@callback( \n",
    "    Output(component_id='stock', component_property=\"children\"), \n",
    "    Input(component_id='crypto-dropdown', component_property=\"value\"),\n",
    "    \n",
    ") \n",
    "def update_text(user_selected): \n",
    " \n",
    "    df = pd.read_csv(f'../data/{user_selected}-USD.csv') \n",
    " \n",
    "     \n",
    "    return html.Div(children =[\n",
    "        html.Div(id=\"card\", children=[\n",
    "            html.H2(f\"{cryptoDict[user_selected]} {user_selected} USD\", id=\"crypto-name\"),\n",
    "            html.H1(round(float(df.iloc[-1]['Close']), 2), id=\"crypto-price\")\n",
    "        ]),\n",
    "        dcc.Graph(\n",
    "        id='stock-visualizer', \n",
    "        figure = { \n",
    "            'data' : [ \n",
    "                go.Candlestick(x=df['Date'], \n",
    "                    open=df['Open'], \n",
    "                    high=df['High'], \n",
    "                    low=df['Low'], \n",
    "                    close=df['Close'] \n",
    "                ) \n",
    "            ], \n",
    "             'layout' : go.Layout( \n",
    "                xaxis=dict( \n",
    "                    rangeselector=dict( \n",
    "                        buttons=list([ \n",
    "                            dict(count = 7, \n",
    "                                label='1W', \n",
    "                                step=\"day\", \n",
    "                                stepmode=\"backward\"), \n",
    "                            dict(count=1, \n",
    "                                label=\"1M\", \n",
    "                                step=\"month\", \n",
    "                                stepmode=\"backward\"), \n",
    "                            dict(count=6, \n",
    "                                label=\"6M\", \n",
    "                                step=\"month\", \n",
    "                                stepmode=\"backward\"), \n",
    "                            dict(count=1, \n",
    "                                label=\"YTD\", \n",
    "                                step=\"year\", \n",
    "                                stepmode=\"todate\"), \n",
    "                            dict(count=1, \n",
    "                                label=\"1Y\", \n",
    "                                step=\"year\", \n",
    "                                stepmode=\"backward\"), \n",
    "                            dict(step=\"all\") \n",
    "                        ]) \n",
    "                    ), \n",
    "                    rangeslider=dict( \n",
    "                        visible=True \n",
    "                    ), \n",
    "                    type=\"date\", \n",
    "                     \n",
    "                ), \n",
    " \n",
    "                yaxis = dict(fixedrange = False) \n",
    "            ) \n",
    "              \n",
    "        },\n",
    "    ), ])\n"
   ]
  },
  {
   "cell_type": "code",
   "execution_count": 12,
   "metadata": {},
   "outputs": [
    {
     "name": "stdout",
     "output_type": "stream",
     "text": [
      "Dash is running on http://127.0.0.1:8000/\n",
      "\n",
      "Dash is running on http://127.0.0.1:8000/\n",
      "\n",
      " * Serving Flask app \"__main__\" (lazy loading)\n",
      " * Environment: production\n",
      "\u001b[31m   WARNING: This is a development server. Do not use it in a production deployment.\u001b[0m\n",
      "\u001b[2m   Use a production WSGI server instead.\u001b[0m\n",
      " * Debug mode: off\n"
     ]
    },
    {
     "name": "stderr",
     "output_type": "stream",
     "text": [
      " * Running on http://127.0.0.1:8000/ (Press CTRL+C to quit)\n"
     ]
    }
   ],
   "source": [
    "if __name__ == \"__main__\": \n",
    "    app.run_server(port='8000')"
   ]
  }
 ],
 "metadata": {
  "kernelspec": {
   "display_name": "base",
   "language": "python",
   "name": "python3"
  },
  "language_info": {
   "codemirror_mode": {
    "name": "ipython",
    "version": 3
   },
   "file_extension": ".py",
   "mimetype": "text/x-python",
   "name": "python",
   "nbconvert_exporter": "python",
   "pygments_lexer": "ipython3",
   "version": "3.9.13"
  },
  "orig_nbformat": 4,
  "vscode": {
   "interpreter": {
    "hash": "45a1edfb8a9ca757f2ba01df15192fdb13b9199b35ce8eefc4dcce3904605fc1"
   }
  }
 },
 "nbformat": 4,
 "nbformat_minor": 2
}
